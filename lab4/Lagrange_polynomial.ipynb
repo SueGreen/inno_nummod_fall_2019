{
 "cells": [
  {
   "cell_type": "code",
   "execution_count": 30,
   "metadata": {},
   "outputs": [],
   "source": [
    "import numpy as np\n",
    "from sympy import symbols"
   ]
  },
  {
   "cell_type": "code",
   "execution_count": 31,
   "metadata": {},
   "outputs": [],
   "source": [
    "x = symbols('x')\n",
    "xs = np.array([2,3,4,5])\n",
    "fs = np.array([7,5,8,7])\n",
    "n = len(xs)"
   ]
  },
  {
   "cell_type": "code",
   "execution_count": 32,
   "metadata": {},
   "outputs": [
    {
     "data": {
      "text/latex": [
       "$\\displaystyle \\left(x - 5\\right) \\left(x - 4\\right) \\left(x - 3\\right) \\left(x - 2\\right)$"
      ],
      "text/plain": [
       "(x - 5)*(x - 4)*(x - 3)*(x - 2)"
      ]
     },
     "execution_count": 32,
     "metadata": {},
     "output_type": "execute_result"
    }
   ],
   "source": [
    "p_lambda = lambda xs_i: x - xs_i"
   ]
  },
  {
   "cell_type": "code",
   "execution_count": 33,
   "metadata": {},
   "outputs": [
    {
     "name": "stdout",
     "output_type": "stream",
     "text": [
      "[12 - 6*x, 2*x - 6, 8 - 2*x, 6*x - 30]\n"
     ]
    }
   ],
   "source": [
    "d_lambda = lambda x_i, x_j: x_i - x_j\n",
    "di = lambda x_i, i: (x - x_i) * np.prod([d_lambda(x_i, xs[j]) if j != i else 1 for j in range(n)])\n",
    "ds = lambda xs: [di(xs[i], i) for i in range(n)]\n",
    "\n",
    "print(ds(xs))"
   ]
  },
  {
   "cell_type": "code",
   "execution_count": 34,
   "metadata": {},
   "outputs": [
    {
     "data": {
      "text/latex": [
       "$\\displaystyle \\frac{7 \\left(x - 5\\right) \\left(x - 4\\right) \\left(x - 3\\right) \\left(x - 2\\right)}{6 x - 30} + \\frac{5 \\left(x - 5\\right) \\left(x - 4\\right) \\left(x - 3\\right) \\left(x - 2\\right)}{2 x - 6} + \\frac{7 \\left(x - 5\\right) \\left(x - 4\\right) \\left(x - 3\\right) \\left(x - 2\\right)}{12 - 6 x} + \\frac{8 \\left(x - 5\\right) \\left(x - 4\\right) \\left(x - 3\\right) \\left(x - 2\\right)}{8 - 2 x}$"
      ],
      "text/plain": [
       "7*(x - 5)*(x - 4)*(x - 3)*(x - 2)/(6*x - 30) + 5*(x - 5)*(x - 4)*(x - 3)*(x - 2)/(2*x - 6) + 7*(x - 5)*(x - 4)*(x - 3)*(x - 2)/(12 - 6*x) + 8*(x - 5)*(x - 4)*(x - 3)*(x - 2)/(8 - 2*x)"
      ]
     },
     "execution_count": 34,
     "metadata": {},
     "output_type": "execute_result"
    }
   ],
   "source": [
    "lagrange_ = lambda xs, fs: (np.prod([p_lambda(xs_i) for xs_i in xs])*fs/ds(xs)).sum()\n",
    "lagrange_(xs, fs)"
   ]
  },
  {
   "cell_type": "code",
   "execution_count": 35,
   "metadata": {},
   "outputs": [],
   "source": [
    "lagrange = lambda x0, xs, fs: (lagrange_(xs, fs)).subs(x,x0)"
   ]
  },
  {
   "cell_type": "code",
   "execution_count": 36,
   "metadata": {},
   "outputs": [
    {
     "name": "stdout",
     "output_type": "stream",
     "text": [
      "4.81250000000000\n"
     ]
    }
   ],
   "source": [
    "xs = np.array([2,3,4,5])\n",
    "fs = np.array([7,5,8,7])\n",
    "print(lagrange(2.5, xs, fs))"
   ]
  },
  {
   "cell_type": "code",
   "execution_count": null,
   "metadata": {},
   "outputs": [],
   "source": []
  },
  {
   "cell_type": "code",
   "execution_count": null,
   "metadata": {},
   "outputs": [],
   "source": []
  }
 ],
 "metadata": {
  "kernelspec": {
   "display_name": "Python 3",
   "language": "python",
   "name": "python3"
  },
  "language_info": {
   "codemirror_mode": {
    "name": "ipython",
    "version": 3
   },
   "file_extension": ".py",
   "mimetype": "text/x-python",
   "name": "python",
   "nbconvert_exporter": "python",
   "pygments_lexer": "ipython3",
   "version": "3.7.3"
  }
 },
 "nbformat": 4,
 "nbformat_minor": 2
}
